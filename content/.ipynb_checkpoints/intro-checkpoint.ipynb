{
 "cells": [
  {
   "cell_type": "markdown",
   "metadata": {},
   "source": [
    "# CSCI 7000-009\n"
   ]
  },
  {
   "cell_type": "markdown",
   "metadata": {},
   "source": [
    "# Advances in Artificial Intelligence and Neuroscience\n",
    "\n",
    "This course explores the recent advances in the intersection of artificial intelligence (AI) and neuroscience, including algorithms, tools, and theories. Students will read research papers, work on projects involving public brain imaging datasets, write reports, and discuss ethical issues that may arise in the use of AI in brain imaging studies. Prior experiences with data analytics or image processing are recommended.\n",
    "\n",
    "\n",
    "## Acknowledgements\n",
    "\n",
    "The materials of this course are based on contributions of the following individuals and projects.\n",
    "* Pilyoung Kim\n",
    "* Luke Chang\n",
    "* some marchihe learning Machine learning \n",
    "https://www.textbook.ds100.org/ch/16/reg_ridge.html"
   ]
  },
  {
   "cell_type": "code",
   "execution_count": null,
   "metadata": {},
   "outputs": [],
   "source": []
  }
 ],
 "metadata": {
  "kernelspec": {
   "display_name": "Python 3",
   "language": "python",
   "name": "python3"
  },
  "language_info": {
   "codemirror_mode": {
    "name": "ipython",
    "version": 3
   },
   "file_extension": ".py",
   "mimetype": "text/x-python",
   "name": "python",
   "nbconvert_exporter": "python",
   "pygments_lexer": "ipython3",
   "version": "3.7.4"
  },
  "widgets": {
   "application/vnd.jupyter.widget-state+json": {
    "state": {},
    "version_major": 2,
    "version_minor": 0
   }
  }
 },
 "nbformat": 4,
 "nbformat_minor": 4
}
